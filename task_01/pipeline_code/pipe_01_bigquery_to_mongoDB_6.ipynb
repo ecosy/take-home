{
 "cells": [
  {
   "cell_type": "markdown",
   "metadata": {},
   "source": [
    "# 파이프라인 Flow\n",
    "\n",
    "### [ Bigquery -> Google Tasks Queue -> MongoDB ]\n",
    "\n",
    "1. BigQuery에서 \"extract_token_addr_bigquery.sql\" 을 통해 추출한\n",
    "   \"tokenAddr_value\" table로부터 token_address, value 값을 가져옴\n",
    "2. google tasks queue 실행 (index range 100000, 108856)\n",
    "   - token_address, value 값을 opensea.io asset 검색 api에 보내어\n",
    "   해당 자산 주인의 eoa address 를 가져옴\n",
    "   - [eoa_address, token_address, value] 형식으로 mongoDB에 저장함"
   ]
  },
  {
   "cell_type": "markdown",
   "metadata": {},
   "source": [
    "## 1. BigQuery에서 token_address, value 가져오기"
   ]
  },
  {
   "cell_type": "code",
   "execution_count": 1,
   "metadata": {},
   "outputs": [],
   "source": [
    "%load_ext google.cloud.bigquery"
   ]
  },
  {
   "cell_type": "code",
   "execution_count": 2,
   "metadata": {},
   "outputs": [],
   "source": [
    "import google.auth\n",
    "from google.cloud import bigquery\n",
    "from google.cloud import bigquery_storage_v1beta1\n",
    "import google.cloud.bigquery.magics\n",
    "google.cloud.bigquery.magics.context.use_bqstorage_api = True"
   ]
  },
  {
   "cell_type": "code",
   "execution_count": 3,
   "metadata": {},
   "outputs": [],
   "source": [
    "# google auth 승인\n",
    "credentials, project_id = google.auth.default()\n",
    "\n",
    "# BigQuery Client 생성\n",
    "bqclient = bigquery.Client(\n",
    "    credentials=credentials,\n",
    "    project=project_id\n",
    ")\n",
    "bqstorageclient = bigquery_storage_v1beta1.BigQueryStorageClient(\n",
    "    credentials=credentials\n",
    ")"
   ]
  },
  {
   "cell_type": "code",
   "execution_count": 4,
   "metadata": {},
   "outputs": [
    {
     "name": "stdout",
     "output_type": "stream",
     "text": [
      "                                token_address     value\n",
      "0  0x273f7f8e6489682df756151f5525576e322d51a3  20010647\n",
      "1  0x273f7f8e6489682df756151f5525576e322d51a3  30260186\n",
      "2  0x273f7f8e6489682df756151f5525576e322d51a3  20370001\n",
      "3  0x273f7f8e6489682df756151f5525576e322d51a3  20150059\n",
      "4  0x273f7f8e6489682df756151f5525576e322d51a3  30090008\n"
     ]
    }
   ],
   "source": [
    "# Bigquery에서 token_address, value 값을 받아올 query\n",
    "query_string = \"\"\"\n",
    "SELECT * \n",
    "FROM `bigquery-279701.take_home.tokenAddr_value`\n",
    "\"\"\"\n",
    "# Bigquery에서 해당 query의 값을 가져오고, DataFrame 형태로 만듦\n",
    "tokenAddr_value_df = (\n",
    "    bqclient.query(query_string)\n",
    "    .result()\n",
    "    .to_dataframe(bqstorage_client=bqstorageclient)\n",
    ")\n",
    "print(tokenAddr_value_df.head())"
   ]
  },
  {
   "cell_type": "code",
   "execution_count": 5,
   "metadata": {},
   "outputs": [
    {
     "data": {
      "text/plain": [
       "(108856, 2)"
      ]
     },
     "execution_count": 5,
     "metadata": {},
     "output_type": "execute_result"
    }
   ],
   "source": [
    "tokenAddr_value_df.shape"
   ]
  },
  {
   "cell_type": "code",
   "execution_count": 6,
   "metadata": {},
   "outputs": [
    {
     "data": {
      "text/html": [
       "<div>\n",
       "<style scoped>\n",
       "    .dataframe tbody tr th:only-of-type {\n",
       "        vertical-align: middle;\n",
       "    }\n",
       "\n",
       "    .dataframe tbody tr th {\n",
       "        vertical-align: top;\n",
       "    }\n",
       "\n",
       "    .dataframe thead th {\n",
       "        text-align: right;\n",
       "    }\n",
       "</style>\n",
       "<table border=\"1\" class=\"dataframe\">\n",
       "  <thead>\n",
       "    <tr style=\"text-align: right;\">\n",
       "      <th></th>\n",
       "      <th>token_address</th>\n",
       "      <th>value</th>\n",
       "    </tr>\n",
       "  </thead>\n",
       "  <tbody>\n",
       "    <tr>\n",
       "      <th>0</th>\n",
       "      <td>0x273f7f8e6489682df756151f5525576e322d51a3</td>\n",
       "      <td>20010647</td>\n",
       "    </tr>\n",
       "    <tr>\n",
       "      <th>1</th>\n",
       "      <td>0x273f7f8e6489682df756151f5525576e322d51a3</td>\n",
       "      <td>30260186</td>\n",
       "    </tr>\n",
       "    <tr>\n",
       "      <th>2</th>\n",
       "      <td>0x273f7f8e6489682df756151f5525576e322d51a3</td>\n",
       "      <td>20370001</td>\n",
       "    </tr>\n",
       "    <tr>\n",
       "      <th>3</th>\n",
       "      <td>0x273f7f8e6489682df756151f5525576e322d51a3</td>\n",
       "      <td>20150059</td>\n",
       "    </tr>\n",
       "    <tr>\n",
       "      <th>4</th>\n",
       "      <td>0x273f7f8e6489682df756151f5525576e322d51a3</td>\n",
       "      <td>30090008</td>\n",
       "    </tr>\n",
       "  </tbody>\n",
       "</table>\n",
       "</div>"
      ],
      "text/plain": [
       "                                token_address     value\n",
       "0  0x273f7f8e6489682df756151f5525576e322d51a3  20010647\n",
       "1  0x273f7f8e6489682df756151f5525576e322d51a3  30260186\n",
       "2  0x273f7f8e6489682df756151f5525576e322d51a3  20370001\n",
       "3  0x273f7f8e6489682df756151f5525576e322d51a3  20150059\n",
       "4  0x273f7f8e6489682df756151f5525576e322d51a3  30090008"
      ]
     },
     "execution_count": 6,
     "metadata": {},
     "output_type": "execute_result"
    }
   ],
   "source": [
    "tokenAddr_value_df.head()"
   ]
  },
  {
   "cell_type": "markdown",
   "metadata": {},
   "source": [
    "## 2. Google Tasks Queue 실행\n",
    "* Opensea api로 자산 주인의 eoa_address 가져와 mongoDB에 저장하기\n",
    "* Opensea api [link](https://docs.opensea.io/reference#getting-assets)"
   ]
  },
  {
   "cell_type": "code",
   "execution_count": 11,
   "metadata": {},
   "outputs": [],
   "source": [
    "from google.cloud import tasks_v2\n",
    "from google.protobuf import timestamp_pb2\n",
    "\n",
    "project = \"bigquery-279701\"\n",
    "queue = \"queue-mongoDB\"\n",
    "location = \"us-central1\"\n",
    "\n",
    "# Client Credential 생성\n",
    "task_client = tasks_v2.CloudTasksClient()\n",
    "parent = task_client.queue_path(project, location, queue)\n",
    "\n",
    "# task 기본 파라미터 입력\n",
    "task = {\n",
    "            'http_request': {  # Specify the type of request.\n",
    "                'http_method': 'POST',\n",
    "                'url': \"https://us-central1-bigquery-279701.cloudfunctions.net/mongo\"  # The full url path that the task will be sent to.\n",
    "            }\n",
    "}"
   ]
  },
  {
   "cell_type": "code",
   "execution_count": 12,
   "metadata": {},
   "outputs": [],
   "source": [
    "# task 생성 메소드\n",
    "# payload를 통하여 value, token_address를 task queue의 파라미터로 넘겨줌\n",
    "\n",
    "def create_task(project, queue, location, payload=None, in_seconds=None, task_name=None):\n",
    "    \n",
    "    # payload = {'value' : '111111', 'token_address' : '0x34324'}\n",
    "    # value : token id\n",
    "    # token_address : token의 주소\n",
    "    if payload is not None:\n",
    "        # Add the payload to the request\n",
    "        task['http_request']['headers'] = {\n",
    "            'Content-type': 'application/json'}\n",
    "        task['http_request']['body'] = json.dumps(payload).encode()\n",
    "    \n",
    "    # 기본 템플릿 메소드\n",
    "    if in_seconds is not None:\n",
    "        # Convert \"seconds from now\" into an rfc3339 datetime string.\n",
    "        d = datetime.datetime.utcnow() + datetime.timedelta(seocnds=in_seconds)\n",
    "\n",
    "        # Create Timestamp protobuf.\n",
    "        timestamp = timestamp_pb2.Timestamp()\n",
    "        timestamp.FromDatetime(d)\n",
    "\n",
    "        # Add the timestamp to the tasks.\n",
    "        task['schedule_time'] = timestamp\n",
    "        \n",
    "    # 기본 템플릿 메소드\n",
    "    if task_name is not None:\n",
    "        # Add the name to tasks.\n",
    "        task['name'] = task_name\n",
    "        \n",
    "    # task queue에 위에서 세팅한 task를 넘겨줌\n",
    "    response = task_client.create_task(parent, task)    \n",
    "    return response"
   ]
  },
  {
   "cell_type": "code",
   "execution_count": 13,
   "metadata": {},
   "outputs": [],
   "source": [
    "import json\n",
    "\n",
    "# 위의 create_task를 실행시키기 위한 메소드\n",
    "def dispatch_task(payload):\n",
    "    resp = create_task(project=project, queue=queue, location=location, payload=payload)"
   ]
  },
  {
   "cell_type": "code",
   "execution_count": 14,
   "metadata": {},
   "outputs": [
    {
     "data": {
      "application/vnd.jupyter.widget-view+json": {
       "model_id": "9960e170267d438da99f4a1d56a369da",
       "version_major": 2,
       "version_minor": 0
      },
      "text/plain": [
       "HBox(children=(FloatProgress(value=0.0, max=20000.0), HTML(value='')))"
      ]
     },
     "metadata": {},
     "output_type": "display_data"
    },
    {
     "name": "stdout",
     "output_type": "stream",
     "text": [
      "\n"
     ]
    }
   ],
   "source": [
    "import json\n",
    "from tqdm.notebook import tqdm\n",
    "\n",
    "# BigQuery에서 받아온 token address, value 중에서\n",
    "# index 100000, 108856 사이의 값만 \"queue-mongoDB\" 큐에 task로 실행함\n",
    "for i in tqdm(range(100000, 108856):\n",
    "    data = {}\n",
    "    data['value'] = tokenAddr_value_df.loc[i]['value']\n",
    "    data['token_address'] = tokenAddr_value_df.loc[i]['token_address']\n",
    "    dispatch_task(data)"
   ]
  },
  {
   "cell_type": "code",
   "execution_count": null,
   "metadata": {},
   "outputs": [],
   "source": []
  }
 ],
 "metadata": {
  "kernelspec": {
   "display_name": "dataENG",
   "language": "python",
   "name": "dataeng"
  },
  "language_info": {
   "codemirror_mode": {
    "name": "ipython",
    "version": 3
   },
   "file_extension": ".py",
   "mimetype": "text/x-python",
   "name": "python",
   "nbconvert_exporter": "python",
   "pygments_lexer": "ipython3",
   "version": "3.7.7"
  }
 },
 "nbformat": 4,
 "nbformat_minor": 4
}
